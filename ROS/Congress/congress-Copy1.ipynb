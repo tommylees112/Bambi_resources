{
 "cells": [
  {
   "cell_type": "markdown",
   "metadata": {},
   "source": [
    "# Regression and Other Stories: Congress\n",
    "Predictive uncertainty for congressional elections. See Chapters 10 and 15 in Regression and Other Stories."
   ]
  },
  {
   "cell_type": "code",
   "execution_count": 1,
   "metadata": {},
   "outputs": [],
   "source": [
    "import arviz as az\n",
    "from bambi import Model\n",
    "import pandas as pd\n",
    "import numpy as np\n",
    "import matplotlib.pyplot as plt\n",
    "from scipy import stats\n",
    "import statsmodels.formula.api as smf"
   ]
  },
  {
   "cell_type": "code",
   "execution_count": 2,
   "metadata": {},
   "outputs": [
    {
     "data": {
      "text/html": [
       "<div>\n",
       "<style scoped>\n",
       "    .dataframe tbody tr th:only-of-type {\n",
       "        vertical-align: middle;\n",
       "    }\n",
       "\n",
       "    .dataframe tbody tr th {\n",
       "        vertical-align: top;\n",
       "    }\n",
       "\n",
       "    .dataframe thead th {\n",
       "        text-align: right;\n",
       "    }\n",
       "</style>\n",
       "<table border=\"1\" class=\"dataframe\">\n",
       "  <thead>\n",
       "    <tr style=\"text-align: right;\">\n",
       "      <th></th>\n",
       "      <th>inc86</th>\n",
       "      <th>inc88</th>\n",
       "      <th>inc90</th>\n",
       "      <th>v86</th>\n",
       "      <th>v88</th>\n",
       "      <th>v90</th>\n",
       "      <th>v86_adj</th>\n",
       "      <th>v88_adj</th>\n",
       "      <th>v90_adj</th>\n",
       "    </tr>\n",
       "  </thead>\n",
       "  <tbody>\n",
       "    <tr>\n",
       "      <th>0</th>\n",
       "      <td>1</td>\n",
       "      <td>1</td>\n",
       "      <td>1</td>\n",
       "      <td>0.745036</td>\n",
       "      <td>0.772443</td>\n",
       "      <td>0.714029</td>\n",
       "      <td>0.745036</td>\n",
       "      <td>0.772443</td>\n",
       "      <td>0.714029</td>\n",
       "    </tr>\n",
       "    <tr>\n",
       "      <th>1</th>\n",
       "      <td>1</td>\n",
       "      <td>1</td>\n",
       "      <td>1</td>\n",
       "      <td>0.673845</td>\n",
       "      <td>0.636182</td>\n",
       "      <td>0.597050</td>\n",
       "      <td>0.673845</td>\n",
       "      <td>0.636182</td>\n",
       "      <td>0.597050</td>\n",
       "    </tr>\n",
       "    <tr>\n",
       "      <th>2</th>\n",
       "      <td>1</td>\n",
       "      <td>1</td>\n",
       "      <td>0</td>\n",
       "      <td>0.696457</td>\n",
       "      <td>0.664928</td>\n",
       "      <td>0.521043</td>\n",
       "      <td>0.696457</td>\n",
       "      <td>0.664928</td>\n",
       "      <td>0.521043</td>\n",
       "    </tr>\n",
       "    <tr>\n",
       "      <th>3</th>\n",
       "      <td>-1</td>\n",
       "      <td>-1</td>\n",
       "      <td>-1</td>\n",
       "      <td>0.464590</td>\n",
       "      <td>0.273834</td>\n",
       "      <td>0.234377</td>\n",
       "      <td>0.464590</td>\n",
       "      <td>0.273834</td>\n",
       "      <td>0.234377</td>\n",
       "    </tr>\n",
       "    <tr>\n",
       "      <th>4</th>\n",
       "      <td>-1</td>\n",
       "      <td>-1</td>\n",
       "      <td>0</td>\n",
       "      <td>0.391095</td>\n",
       "      <td>0.263613</td>\n",
       "      <td>0.477439</td>\n",
       "      <td>0.391095</td>\n",
       "      <td>0.263613</td>\n",
       "      <td>0.477439</td>\n",
       "    </tr>\n",
       "  </tbody>\n",
       "</table>\n",
       "</div>"
      ],
      "text/plain": [
       "   inc86  inc88  inc90       v86       v88       v90   v86_adj   v88_adj  \\\n",
       "0      1      1      1  0.745036  0.772443  0.714029  0.745036  0.772443   \n",
       "1      1      1      1  0.673845  0.636182  0.597050  0.673845  0.636182   \n",
       "2      1      1      0  0.696457  0.664928  0.521043  0.696457  0.664928   \n",
       "3     -1     -1     -1  0.464590  0.273834  0.234377  0.464590  0.273834   \n",
       "4     -1     -1      0  0.391095  0.263613  0.477439  0.391095  0.263613   \n",
       "\n",
       "    v90_adj  \n",
       "0  0.714029  \n",
       "1  0.597050  \n",
       "2  0.521043  \n",
       "3  0.234377  \n",
       "4  0.477439  "
      ]
     },
     "execution_count": 2,
     "metadata": {},
     "output_type": "execute_result"
    }
   ],
   "source": [
    "congress = pd.read_csv(\"https://raw.githubusercontent.com/avehtari/ROS-Examples/master/Congress/data/congress.csv\")\n",
    "inconsistent = ((congress[\"inc88\"] ==-1) & (congress[\"v86\"] > 0.5) |  ((congress[\"inc88\"]==1) & (congress[\"v86\"] < 0.5)))\n",
    "\n",
    "congress.head()"
   ]
  },
  {
   "cell_type": "code",
   "execution_count": 3,
   "metadata": {},
   "outputs": [
    {
     "name": "stderr",
     "output_type": "stream",
     "text": [
      "Auto-assigning NUTS sampler...\n",
      "INFO:pymc3:Auto-assigning NUTS sampler...\n",
      "Initializing NUTS using jitter+adapt_diag...\n",
      "INFO:pymc3:Initializing NUTS using jitter+adapt_diag...\n",
      "Multiprocess sampling (4 chains in 4 jobs)\n",
      "INFO:pymc3:Multiprocess sampling (4 chains in 4 jobs)\n",
      "NUTS: [vote_sd, inc, past_vote, Intercept]\n",
      "INFO:pymc3:NUTS: [vote_sd, inc, past_vote, Intercept]\n"
     ]
    },
    {
     "data": {
      "text/html": [
       "\n",
       "    <div>\n",
       "        <style>\n",
       "            /* Turns off some styling */\n",
       "            progress {\n",
       "                /* gets rid of default border in Firefox and Opera. */\n",
       "                border: none;\n",
       "                /* Needs to be in here for Safari polyfill so background images work as expected. */\n",
       "                background-size: auto;\n",
       "            }\n",
       "            .progress-bar-interrupted, .progress-bar-interrupted::-webkit-progress-bar {\n",
       "                background: #F44336;\n",
       "            }\n",
       "        </style>\n",
       "      <progress value='8000' class='' max='8000' style='width:300px; height:20px; vertical-align: middle;'></progress>\n",
       "      100.00% [8000/8000 00:07<00:00 Sampling 4 chains, 0 divergences]\n",
       "    </div>\n",
       "    "
      ],
      "text/plain": [
       "<IPython.core.display.HTML object>"
      ]
     },
     "metadata": {},
     "output_type": "display_data"
    },
    {
     "name": "stderr",
     "output_type": "stream",
     "text": [
      "Sampling 4 chains for 1_000 tune and 1_000 draw iterations (4_000 + 4_000 draws total) took 9 seconds.\n",
      "INFO:pymc3:Sampling 4 chains for 1_000 tune and 1_000 draw iterations (4_000 + 4_000 draws total) took 9 seconds.\n",
      "The number of effective samples is smaller than 25% for some parameters.\n",
      "INFO:pymc3:The number of effective samples is smaller than 25% for some parameters.\n",
      "/home/tommy/miniconda3/envs/stan/lib/python3.8/site-packages/arviz/data/io_pymc3.py:87: FutureWarning: Using `from_pymc3` without the model will be deprecated in a future release. Not using the model will return less accurate and less useful results. Make sure you use the model argument or call from_pymc3 within a model context.\n",
      "  warnings.warn(\n"
     ]
    }
   ],
   "source": [
    "data88 = pd.DataFrame(dict(vote=congress[\"v88_adj\"], past_vote=congress[\"v86_adj\"], inc=congress[\"inc88\"]))\n",
    "model = Model(data88)\n",
    "fit88 = model.fit('vote ~ past_vote + inc', samples=1000, chains=4)"
   ]
  },
  {
   "cell_type": "code",
   "execution_count": 4,
   "metadata": {},
   "outputs": [
    {
     "data": {
      "text/html": [
       "<div>\n",
       "<style scoped>\n",
       "    .dataframe tbody tr th:only-of-type {\n",
       "        vertical-align: middle;\n",
       "    }\n",
       "\n",
       "    .dataframe tbody tr th {\n",
       "        vertical-align: top;\n",
       "    }\n",
       "\n",
       "    .dataframe thead th {\n",
       "        text-align: right;\n",
       "    }\n",
       "</style>\n",
       "<table border=\"1\" class=\"dataframe\">\n",
       "  <thead>\n",
       "    <tr style=\"text-align: right;\">\n",
       "      <th></th>\n",
       "      <th>Median</th>\n",
       "      <th>MAD_SD</th>\n",
       "    </tr>\n",
       "  </thead>\n",
       "  <tbody>\n",
       "    <tr>\n",
       "      <th>Intercept[0]</th>\n",
       "      <td>0.24</td>\n",
       "      <td>0.01</td>\n",
       "    </tr>\n",
       "    <tr>\n",
       "      <th>past_vote[0]</th>\n",
       "      <td>0.52</td>\n",
       "      <td>0.02</td>\n",
       "    </tr>\n",
       "    <tr>\n",
       "      <th>inc[0]</th>\n",
       "      <td>0.10</td>\n",
       "      <td>0.00</td>\n",
       "    </tr>\n",
       "    <tr>\n",
       "      <th>vote_sd</th>\n",
       "      <td>0.07</td>\n",
       "      <td>0.00</td>\n",
       "    </tr>\n",
       "  </tbody>\n",
       "</table>\n",
       "</div>"
      ],
      "text/plain": [
       "              Median  MAD_SD\n",
       "Intercept[0]    0.24    0.01\n",
       "past_vote[0]    0.52    0.02\n",
       "inc[0]          0.10    0.00\n",
       "vote_sd         0.07    0.00"
      ]
     },
     "execution_count": 4,
     "metadata": {},
     "output_type": "execute_result"
    }
   ],
   "source": [
    "func_dict = {\"Median\": np.median,\n",
    "            \"MAD_SD\":stats.median_abs_deviation,\n",
    "             }\n",
    "coefs = az.summary(fit88, stat_funcs=func_dict, extend=False, round_to=2)\n",
    "coefs"
   ]
  },
  {
   "cell_type": "code",
   "execution_count": 5,
   "metadata": {},
   "outputs": [],
   "source": [
    "# TODO: Rest of this notebook\n",
    "# Figure out how to run posterior predictive simulations in bambi"
   ]
  }
 ],
 "metadata": {
  "kernelspec": {
   "display_name": "Python 3",
   "language": "python",
   "name": "python3"
  },
  "language_info": {
   "codemirror_mode": {
    "name": "ipython",
    "version": 3
   },
   "file_extension": ".py",
   "mimetype": "text/x-python",
   "name": "python",
   "nbconvert_exporter": "python",
   "pygments_lexer": "ipython3",
   "version": "3.8.5"
  }
 },
 "nbformat": 4,
 "nbformat_minor": 4
}
